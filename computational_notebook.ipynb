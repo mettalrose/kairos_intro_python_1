{
  "nbformat": 4,
  "nbformat_minor": 0,
  "metadata": {
    "colab": {
      "provenance": [],
      "include_colab_link": true
    },
    "kernelspec": {
      "name": "python3",
      "display_name": "Python 3"
    },
    "language_info": {
      "name": "python"
    }
  },
  "cells": [
    {
      "cell_type": "markdown",
      "metadata": {
        "id": "view-in-github",
        "colab_type": "text"
      },
      "source": [
        "<a href=\"https://colab.research.google.com/github/mettalrose/kairos_intro_python_1/blob/main/computational_notebook.ipynb\" target=\"_parent\"><img src=\"https://colab.research.google.com/assets/colab-badge.svg\" alt=\"Open In Colab\"/></a>"
      ]
    },
    {
      "cell_type": "code",
      "execution_count": null,
      "metadata": {
        "id": "XUfoPZBLFcQQ"
      },
      "outputs": [],
      "source": []
    },
    {
      "cell_type": "markdown",
      "source": [
        "# A Gentle DIY Introduction to Reading Python for Rhetoricians\n",
        "\n",
        "### — Anuj Gupta (University of South Florida)\n",
        "###— Heather Froehlich (University of Arizona)\n",
        "\n",
        "\n",
        "*Let's get started!*\n"
      ],
      "metadata": {
        "id": "SkP4RWONGn_A"
      }
    },
    {
      "cell_type": "markdown",
      "source": [
        "**Abstract**\n",
        "\n",
        "This webtext is a pedagogical tool that supports students, teachers, and researchers in writing studies and allied fields who are interested in gaining a beginner-friendly introduction to the computer language Python. Specifically, this webtext consists of a computational notebook, which is a web interface that weaves together multiple modalities of HTML markup, written text, and coding snippets to provide an interactive experience with computer code. The written text in this interface helps users navigate, run, and edit the code snippets and engage with their outputs. By using this webtext, users will develop an ability to read basic code in Python—which is arguably one of the most widely used computer languages today and has played a major role in the development of practices like data science and artificial intelligence, which are rapidly impacting the field of digital rhetoric. Since computer code, especially that which is written in Python, plays a key infrastructural role that undergirds many forms of writing, rhetoric, and culture in our digitally mediated worlds, developing basic literacy in it can enable us to cultivate a critical awareness of our digital lives. You can use this tutorial independently or integrate it into a classroom setting.\n"
      ],
      "metadata": {
        "id": "Ix3xoGj1Gzoz"
      }
    }
  ]
}