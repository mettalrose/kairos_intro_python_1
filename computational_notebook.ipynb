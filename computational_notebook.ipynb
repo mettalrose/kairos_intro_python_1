{
  "nbformat": 4,
  "nbformat_minor": 0,
  "metadata": {
    "colab": {
      "provenance": [],
      "include_colab_link": true
    },
    "kernelspec": {
      "name": "python3",
      "display_name": "Python 3"
    },
    "language_info": {
      "name": "python"
    }
  },
  "cells": [
    {
      "cell_type": "markdown",
      "metadata": {
        "id": "view-in-github",
        "colab_type": "text"
      },
      "source": [
        "<a href=\"https://colab.research.google.com/github/mettalrose/kairos_intro_python_1/blob/main/computational_notebook.ipynb\" target=\"_parent\"><img src=\"https://colab.research.google.com/assets/colab-badge.svg\" alt=\"Open In Colab\"/></a>"
      ]
    },
    {
      "cell_type": "markdown",
      "source": [
        "# A Gentle DIY Introduction to Reading Python for Rhetoricians\n",
        "\n",
        "### — Anuj Gupta (University of South Florida)\n",
        "###— Heather Froehlich (University of Arizona)\n",
        "\n",
        "\n",
        "*Let's get started!*\n"
      ],
      "metadata": {
        "id": "SkP4RWONGn_A"
      }
    },
    {
      "cell_type": "markdown",
      "source": [
        "## **Abstract**\n",
        "\n",
        "This webtext is a pedagogical tool that supports students, teachers, and researchers in writing studies and allied fields who are interested in gaining a beginner-friendly introduction to the computer language Python. Specifically, this webtext consists of a computational notebook, which is a web interface that weaves together multiple modalities of HTML markup, written text, and coding snippets to provide an interactive experience with computer code. The written text in this interface helps users navigate, run, and edit the code snippets and engage with their outputs. By using this webtext, users will develop an ability to read basic code in Python—which is arguably one of the most widely used computer languages today and has played a major role in the development of practices like data science and artificial intelligence, which are rapidly impacting the field of digital rhetoric. Since computer code, especially that which is written in Python, plays a key infrastructural role that undergirds many forms of writing, rhetoric, and culture in our digitally mediated worlds, developing basic literacy in it can enable us to cultivate a critical awareness of our digital lives. You can use this tutorial independently or integrate it into a classroom setting.\n"
      ],
      "metadata": {
        "id": "Ix3xoGj1Gzoz"
      }
    },
    {
      "cell_type": "markdown",
      "source": [
        "## **Part 1 Overview**\n",
        "\n",
        "### 1.1 Objectives\n",
        "\n",
        "1.   Experience how computer code in Python works at a micro-scale.\n",
        "2.   Develop a basic reading comprehension of computer code in Python\n",
        "3. Learn about free, open source resources through which you can continue learning Python for your work\n",
        "\n",
        "### 1.2 Time Required\n",
        "~90 mins\n",
        "\n",
        "### 1.3 Materials Needed\n",
        "\n",
        "1. A working internet connection: This tutorial relies on the internet, so please ensure that you have a decent internet connection.\n",
        "2. Web Browser: This tutorial works best with Google Chrome, Mozilla Firefox, and Microsoft Edge.\n",
        "3. Google Colab Notebook: Google Colab is a service that provides free access to \"computational notebooks,\" which are like a Google Docs environment for writing and running computer coding. Google Collab provides a user-friendly environment to practice coding. You won’t need to download anything. We will provide instructions on how to run Google Colab in your browser in Part 4: Basic Setup.\n",
        "\n",
        "### 1.4 Prerequisite skills\n",
        "\n",
        "We have designed this tutorial assuming that our readers do not have any prior knowledge or experience working with any computer programming language, Python, or data at all. You will need a working understanding of English and curiosity about learning computer programming in Python to be able to use this tutorial.\n",
        "\n",
        "### 1.5 How to engage with this tutorial\n",
        "\n",
        "There are two ways to access this tutorial.\n",
        "\n",
        "1. Version 1 is a static version displayed on the website of the journal Kairos’ website (*add link here after publishing)*. This version contains all the content of the tutorial but doesn’t have the functionality to run the actual code.\n",
        "2. Version 2 is a dynamic version that can be accessed on the website Google Colab ([click here](https://colab.research.google.com/github/mettalrose/kairos_intro_python_1/blob/main/computational_notebook.ipynb)\n",
        "). This version contains all the content of the tutorial and also allows you to run the computer code and see the outputs it generates. We will describe in more detail how to access Version 2 in Part 4: Basic Setup below.\n",
        "3. Each part of this tutorial is designed to build upon the knowledge and information provided from the previous part. While it's recommended to experience the parts in sequence, you are welcome to explore as you wish.\n"
      ],
      "metadata": {
        "id": "HCq1l9POHCiQ"
      }
    },
    {
      "cell_type": "markdown",
      "source": [
        "## Part 2 Why learn how to read computer code in Python?\n",
        "\n",
        "To make it possible for you to read this sentence, many networks of humans, hardware devices, and computer code are currently working together. Human writers composed and edited this text using a keyboard, which then sent those keystrokes to their computers’ CPU. The CPU then converted those keystrokes into binary data and saved them in the computer’s memory and registered them as visual characters on a screen. The editors of this journal then took that data from the authors, edited it, and saved it on their server. When you clicked on the hyperlink for this page, your computer’s network sent a request to access that data from the journal’s server. After being granted permission, the journal’s server sent the data to your computer. Your computer then converted that binary data into pixels and sent it to your monitor. Finally, your monitor lit up in accordance with protocols on how to display those pixels as visual stimuli, making the text readable to your eyes or your screen readers.\n",
        "Without computer code mediating each of these steps, much modern communication would be unimaginable. This is what Anette Vee alludes to when she talks about the infrastructural role that computer code plays in shaping contemporary communication:\n",
        "\n",
        ">..throughout much of the world, computer code is infrastructural: layered over and under the technology of writing, computer code now structures much of our contemporary communications, including word processing, e-mail, the World Wide Web, social networking, digital video production, and mobile phone technology. Our employment, health records, and citizenship status, once recorded solely in text, are now cataloged in computer databases” (Vee, 2017, p. 3).\n",
        "\n",
        "Many scholars in digital rhetoric have helped us understand that this infrastructural role is not a passive, objective, or neutral form of mediation, but rather it plays an active rhetorical role in shaping meanings in our digital public spheres (e.g., Ingraham, 2014; Beck, 2016; Brock and Shepherd, 2016). For example, Laquintano and Vee (2017) show that fake news can be spread through the use of automated writing algorithms, or ‘bots’ on social media. A bot is any computer program that can automate repetitive tasks typically done by humans. While bots can be used across domains and can be helpful or harmful, Laquintano and Vee (2017) refer to specific kinds of malicious social media bots that are used by their programmers to appear to be real, human users. Such bots can assist in amplifying fake news articles or even just making certain positions seem more legitimate, thereby helping skew public discourse in certain ideological directions. During the 2016 U.S. Presidential election, many social media bots had played an active role in influencing public opinion in this manner (Boichak et al., 2016). To be a mindful social media writer, Laquintano and Vee (2017) argue, it is important to understand what bots are and the infrastructural role that their algorithms play to amplify or constrain different types of discourse. Such knowledge can also help writers generate counter-rhetorical practices. Lussos (2018), for instance, teaches her students how to customize existing coding templates to create Twitter bots that help raise awareness about social problems in the world.\n",
        "\n",
        "Social media bots are one case, but countless others—like the growing emergence of data science and generative artificial intelligence in our digital lives—have made it important for writers as well as for scholars and teachers of writing and rhetoric to have a basic working knowledge of how computer code shapes their communication. While we have a lot of scholarship in digital rhetoric and writing studies that analyzes the rhetorical role of computer programs, unfortunately we do not have enough pedagogical resources to aid in onboarding new scholars, teachers, and writers unfamiliar with how computer code works. There have been some commendable efforts by digital rhetoricians like Quigley (2022), Lindgren & Ridolfo (2020), and others to create such resources. Our tutorial aims to contribute to these ongoing efforts by, providing a novice-friendly and easy-to-use introduction that will help readers develop a basic reading comprehension of computer code in Python. It is important to remember though that the goal of this web text is to assist in basic reading comprehension of Python, not necessarily a level of production-level literacy. We have specifically chosen Python as our language of choice because of its relatively user-friendly syntax and wide applicability, especially in areas of digital writing that interest scholars of writing studies, rhetoric, and allied fields.\n",
        "\n",
        "In what follows, we will begin by introducing  some definitions in Part 3.. Then, in part 4, we provide guidance on how to use a computational notebook in Google Colab. In part 5, we move to the meat of the matter and teach you how to read Python code. To do this, we first share sample Python code we created to provide a hypothetical example of how students’ instructor reviews can get analyzed computationally in certain administrative settings. We then explain what is happening in the code through detailed explanations of foundational symbols and concepts in Python. We end this section by reflecting on the kinds of rhetorical and interpretive readings of this code a basic coding literacy would enable for digital rhetoricians. We conclude by offering resources for readers interested in growing these skills further.\n"
      ],
      "metadata": {
        "id": "uyK05M7MJ5-n"
      }
    },
    {
      "cell_type": "markdown",
      "source": [
        "## Part 3 Some Definitions/What do we talk about when we talk about code?\n",
        "\n",
        "### 3.1 Code and Coding\n",
        "\n",
        "In this part, we want to set out some definitions and practices to be clear about what we mean when we talk about “code.” The very first point we would like to make is that all computer code is a form of writing. At the very basic level, computer “code” many different technical languages that have been composed over the last 100-150 years to help human users interact with computers. As rhetoricians, this meaning of “code” is not the only one that we come across in our daily work. Many of us might be more familiar with a different kind of “coding” typically used in qualitative research. In such cases ‘code’ is the identification of, and subsequent execution of, specific content that falls into some kind of classification system or bucket-grouping that provides evidence of a certain kind of outcome<sup>[1](#fn1)</sup>. Users develop a ‘code book’ or shared vocabulary of activity to track across multiple sources. This kind of qualitative coding can be done manually, or might require software such as NVivo or Atlas.ti to perform qualitative content analysis or discourse analysis.\n",
        "\n",
        "We want to signpost this distinction at the very beginning to avoid confusion between computer coding and qualitative coding. Qualitative data coding is a major methodological intervention in the social sciences and humanistic disciplines. We do not wish to dismiss qualitative analysis - in fact, you can use computer programming languages to perform qualitative analysis. Both definitions of “code” can in fact invoke the use of software or computer programming languages that have certain capacities that provide engagement points between the computer and the user. However, when we discuss code in this piece, we want to be clear that we are using “code” as a shorthand for any text written in a computer programming language to directly “speak” or “converse” with your computer.\n",
        "\n",
        "### 3.2 Python\n",
        "\n",
        "Our language of choice is the programming language Python. We focus on Python because it opens many opportunities for you to continue to hone your skills as a quantitative and qualitative researcher. Among other things, Python is an open-source, well-maintained programming language with an emphasis on readability<sup>[2](#fn2)</sup>.  R, another common open-source programming language, has more of a focus on statistical computing and data visualization<sup>[3](#fn3)</sup>. Plenty of Python (and R) materials are already available as open educational resources, and working with computational code in research contributes to the larger open source movement. We like Python because it is lightweight and flexible, and it has the benefit of looking rather like English. This is a general plus for English-language readers and speakers - the code as written should not look intimidating or wildly foreign to us, even if it does not always follow the logic or structure of everyday English language<sup>[4](#fn4)</sup>. This is also a good moment to note that Python is not a natural (i.e. spoken) language, though it has its own internal logic and sets of rules in a way that make it like a spoken language. Additionally, since Python is also widely used by those working with data science and artificial intelligence, we hope that developing a working knowledge of it could also help digital rhetoricians engage more critically with the AI community, which has been marked as an important concern by many scholars of writing studies and rhetoric recently (Gallagher, 2023; Byrd, 2023).  \n",
        "\n",
        "We offer this web-text as a means to introduce the foundations of computer programming in Python that have been adapted for a writing studies audience. Some readers may recall the early days of the personal computer, such as MS-DOS, a predecessor to the modern Windows operating system. Working with Python or other coding languages is very similar to MS-DOS - there is an input screen, and each step to accomplish something must be provided by the user. While this may feel tedious, it also offers the user profound opportunity to be as exact as they want to be—not dissimilar to other forms of composition. Lindgren (2021), in fact, notes that several scholars position code as “the first form of writing that does what it says with great precision” (p. 117). Thus, we find that coding languages offer the ability to be more direct in manipulating data to do precisely what you want while also ensuring greater reproducibility by sharing the exact steps you took to conduct an analysis, including through computational  notebooks like this (more on computational notebooks in the next part) and code repositories such as GitHub. The ability to share, remix, and otherwise adapt extant code is one of the strongest benefits of working with code, along with the capacity for someone to follow along with the steps you took to conduct an analysis.\n",
        "\n",
        "In what follows, we begin by introducing readers to operating within what is called a “computational notebook,” which hosts and allows users to engage with code in an interactive way. We will offer an overview of how to interact with this notebook, including “running” (i.e. operationalizing) code and observing what it does. Once we establish how to use this resource, we will next introduce the main building blocks of reading Python code. In both instances, we are not seeking to provide a complete dictionary of all ways one may encounter Python, or to cover the large universe of what Python can do, but we do aim to situate our readers with some immediate sense of how to read or otherwise interpret some of the key pieces of Python’s symbols and syntax, which ultimately define different kinds of activities. Much like signposts in prose, these skills-building and vocabulary-building activities are designed to help the reader understand what will happen in the near future.\n"
      ],
      "metadata": {
        "id": "3H9pZq7VKaFU"
      }
    },
    {
      "cell_type": "markdown",
      "source": [
        "## Part 4 Basic Setup\n",
        "\n",
        "Previously, we have described our goals for this foundational web-text for working with Python code. We spent some time defining what we mean by “code,” “coding,” and “Python” and what our expectations for you, the reader, are. One of the more alien-seeming aspects of interacting with your computer with text in the 2020s is that we have lost a lot of engagement with the “under the hood” model of providing commands. Graphic user interfaces have made it more difficult to see, and subsequently interact with, a command line interface (the black screen that is familiar to coders but everyday users might have only encountered it when their Windows or Mac OS breaks down and need re-installing). For those of you who are used to hardware like a cell phone or a tablet, it can be more difficult to imagine that there is an underlying language to every action you take on your device. However, this is still a crucial piece of computational infrastructure. In this part, we will help you peek under the hood a little bit so let us begin!\n",
        "\n",
        "### 4.1 What is Google Collab?\n",
        "\n",
        "As noted in Part 1: Overview, this tutorial can be experienced in two forms. Version 1 is a static HTML webtext that can be accessed on the Kairos’ website. Version 2 is a computational notebook that uses a software called Google Collab and can be accessed by [clicking here](https://colab.research.google.com/github/mettalrose/kairos_intro_python_1/blob/main/computational_notebook.ipynb). If you are still on the webpage on the website of the journal Kairos, we recommend [clicking here](https://colab.research.google.com/github/mettalrose/kairos_intro_python_1/blob/main/computational_notebook.ipynb) to access Version 2.  \n",
        "\n",
        "What you see in this link to Version 2 is what is called a Google Colab computational notebook.  Think of it as a Google Docs for coding. In a computational notebook, you can write computer code and run it without going into a command line prompt on your own computer, which is where people usually write computer code. You can also invite other people to collaborate on your work with you. Importantly, any code you run here lives solely in your browser.\n",
        "\n",
        "### 4.2 Pausing and re-running Google Colab\n",
        "\n",
        "A common stumbling block for beginners working with computational code is the fear you will somehow “mess up” your computer; but don’t worry! Using a computational notebook removes the risk. Once you get comfortable working with coding languages, you may want to learn how to execute these on your own in your own command line prompt. For now though, let's use the Google Collab environment. We will walk you through each piece of running commands in what follows. Once you start running the computational notebook in this tutorial, it is possible that the tutorial might stop functioning if you step away from the computer and it is kept idle for a long time. If the tutorial stops functioning, all you have to do is refresh the page or reopen it. Also, please keep in mind that this notebook will not automatically save your progress. If you close the notebook in the middle of the tutorial, you will have to restart from the beginning. Alternatively, if you want to save your progress, you can save a version of this notebook in your Google Drive.\n",
        "\n",
        "### 4.3 What is a code cell in Google Collab and how to run it?\n",
        "\n",
        "Google Collab contains two types of cells: text cells and code cells. A text cell is like the one you are currently reading, where we can use HTML to write prose and format it. Text cells look and operate like any other text rendered on the web. A code cell, on the other hand, is what you can see below. This is a special space where you can write, edit, or run pre-written code. In a Google Collab notebook, code is primarily written in the programming language called \"Python\".\n",
        "\n",
        "When we say \"run\" code, we mean clicking on the ▶ (“play”) button that appears on the left of a code cell when you hover over it.\n",
        "\n",
        "Try to run the cell below that starts with the word \"print\" ! To do so, hover over the cell to the play button or the ▶ button that appears to the left of the cell and click it. (We will talk more about what the \"print\" command later in this web-text.)\n",
        "\n",
        "\n"
      ],
      "metadata": {
        "id": "rzD0LzRiKoXT"
      }
    },
    {
      "cell_type": "code",
      "source": [
        "print(\"Hi! Try to run me.\")\n"
      ],
      "metadata": {
        "id": "MkpxdgkoLVGW",
        "outputId": "56a5008f-ca5e-4deb-8eda-4adddcb27b9f",
        "colab": {
          "base_uri": "https://localhost:8080/"
        }
      },
      "execution_count": null,
      "outputs": [
        {
          "output_type": "stream",
          "name": "stdout",
          "text": [
            "Hi! Try to run me.\n"
          ]
        }
      ]
    },
    {
      "cell_type": "markdown",
      "source": [
        "### 4.4 Accepting Warnings\n",
        "\n",
        "The first time you run this cell, you'll notice a warning appear right below the cell asking you to be cautious when running computational notebooks from the internet. That is an important caution that you should keep in mind when running notebooks whose authenticity and credibility you are unsure of. Since the current notebook has been peer reviewed, you can safely click on \"Run Anyway.\"\n",
        "\n",
        "### 4.5 Reading Results after Running Code\n",
        "It might take a few seconds, after which, if your code has run successfully, you should see a little green tick mark next to the code cell along with a time reference indicating how long it took to run that code and, finally, the results of what running that code did at the bottom of your code cell. You should see some kind of result below.\n",
        "\n",
        "**Congratulations, you've just run your first-ever code cell in Python!**\n",
        "\n",
        "In this code, we have told the computer to “print” or show us as the output whatever sentence was written within the bracket. If your code worked properly, you should be seeing the sentence \"Hi! Try to print me\" below the code cell.\n",
        "\n",
        "Notice, that the input code cell, which was once represented as:\n",
        "\n",
        "[ ]:\n",
        "\n",
        "has now become:\n",
        "\n",
        "[1]:\n",
        "\n",
        "This means your code in that particular cell has run, and it was the first code cell that you ran (hence the 1). If you run the same block multiple times, you'll see that this number will keep on increasing.\n",
        "\n",
        "This code ran quickly. However, sometimes it might take some time to process the command and produce its output. If your code is still running it'll look like a rotating circle. That rotating circle means this cell of code is still running. Be patient whenever you see this sign. When it is done running, it will return some kind of outcome so you know it is done. This visual can be a completed square bracket with a number inside of it, or a result based on command(s).\n",
        "\n",
        "### 4.6 Understanding Errors\n",
        "\n",
        "People make mistakes sometimes, and Python is very good at noticing them. These mistakes can either be a typo that we make or some error in the logic of our commands. Whenever we make such mistakes, Python tells us what we have done by displaying an error message. It is useful to learn how to read those messages so we can correct our mistakes.\n",
        "In the example you see below, if a user spells the command \"print\" incorrectly, let’s say as \"drint.\" then the user receives an error. Let’s run the cell and see what happens.\n",
        "\n",
        "\n",
        "\n",
        "\n",
        "\n"
      ],
      "metadata": {
        "id": "XBA-9vvULikB"
      }
    },
    {
      "cell_type": "code",
      "source": [
        "drint(\"This will not print because of a syntax error. If it runs, that means you’ve corrected the error.\")"
      ],
      "metadata": {
        "id": "6Gjcdc2NPr1w"
      },
      "execution_count": null,
      "outputs": []
    },
    {
      "cell_type": "markdown",
      "source": [
        "The error message should tell you something like \"NameError: name 'drint' is not defined.\" When you find out what the error is, you can go in and correct it. Go to the code cell again and change the word \"drint\" to \"print\" and re-run it; the code should work fine now. Whenever your code does not run properly, Python gives you an error message. The error message is to help you identify where the error is and then you can try to correct it."
      ],
      "metadata": {
        "id": "Sr-qG9x1PseC"
      }
    },
    {
      "cell_type": "markdown",
      "source": [
        "## Part 5: Learning to Read Python\n",
        "\n",
        "Now that you understand what a computational notebook is and have some experience using one, we can move on to the main section of this tutorial, where you will learn how to read Python. What you see below is a sample computer program written in Python code. The goal of this program is to do a rudimentary “sentiment analysis,” which is a popular computational technique used to “systematically detect, extract, and classify the subjective information and affective states expressed in a text, such as opinions, attitudes, and emotions regarding a service, product, person, or topic” (Lei and Liu, 2021, p. 1). Sentiment is typically measured as an overall score attached to a fragment of text, with positive scores indicating “positive” sentiments like good, happy, and favourable (among others) and negative scores indicating “negative” sentiments like bad, sad, and unfavourable (among others). Since the internet is full of trillions of user comments on products, discussion forms, social media and other digital spaces, sentiment analysis has grown to perform a key audience analysis function for businesses, politicians, policymakers, social media moderators, and similar domains.  \n",
        "\n",
        "Please spend some time reading the code below in section 5.1. We want you to first access the code without our line-by-line annotations and explanations that will follow later in section 5.2. Try to observe and absorb what is happening in the code intuitively, even if it doesn’t make a lot of sense initially. In section 5.2, we will walk you through each part of the process.\n",
        "\n",
        "### 5.1: Sample Python Code<sup>[5](#fn5)</sup> for Performing Sentiment Analysis\n",
        "\n"
      ],
      "metadata": {
        "id": "CC2RgZHbP8gV"
      }
    },
    {
      "cell_type": "code",
      "source": [
        "\"\"\"\n",
        "Teacher Review Sentiment Analyzer\n",
        "\n",
        "This script analyzes a student review of a teacher to determine an overall sentiment rating. It uses predefined positive and negative words to count how many of such words appear in the review. Based on the counts, it classifies the teacher's review as either POSITIVE or NEGATIVE. This is a straightforward keyword-based sentiment analysis approach.\n",
        "\"\"\"\n",
        "\n",
        "# A student review of a teacher\n",
        "review = \"The course was challenging and the professor was intense, but I learned a lot and don’t feel intimidated anymore.\"\n",
        "\n",
        "# Negative words to check\n",
        "negative_word_1 = \"challenging\"\n",
        "negative_word_2 = \"intense\"\n",
        "negative_word_3 = \"hard\"\n",
        "negative_word_4 = \"confusing\"\n",
        "negative_word_5 = \"intimidated\"\n",
        "\n",
        "# Count how many times each negative word appears\n",
        "neg_1 = review.count(negative_word_1)\n",
        "neg_2 = review.count(negative_word_2)\n",
        "neg_3 = review.count(negative_word_3)\n",
        "neg_4 = review.count(negative_word_4)\n",
        "neg_5 = review.count(negative_word_5)\n",
        "\n",
        "# Total negative score\n",
        "negative_score = neg_1 + neg_2 + neg_3 + neg_4 + neg_5\n",
        "\n",
        "# Positive words to check\n",
        "positive_word_1 = \"learned\"\n",
        "positive_word_2 = \"confident\"\n",
        "positive_word_3 = \"valuable\"\n",
        "positive_word_4 = \"helpful\"\n",
        "positive_word_5 = \"great\"\n",
        "\n",
        "# Count how many times each positive word appears\n",
        "pos_1 = review.count(positive_word_1)\n",
        "pos_2 = review.count(positive_word_2)\n",
        "pos_3 = review.count(positive_word_3)\n",
        "pos_4 = review.count(positive_word_4)\n",
        "pos_5 = review.count(positive_word_5)\n",
        "\n",
        "# Total positive score\n",
        "positive_score = pos_1 + pos_2 + pos_3 + pos_4 + pos_5\n",
        "\n",
        "# Print the review and scores\n",
        "print(\"Student review:\")\n",
        "print(review)\n",
        "print()\n",
        "print(\"Positive score:\", positive_score)\n",
        "print(\"Negative score:\", negative_score)\n",
        "print()\n",
        "\n",
        "# Decide and print the final rating\n",
        "if positive_score > negative_score:\n",
        "    print(\"→ Teacher Rating: POSITIVE\")\n",
        "else:\n",
        "    print(\"→ Teacher Rating: NEGATIVE\")\n"
      ],
      "metadata": {
        "id": "2zxalpZkQDz0"
      },
      "execution_count": null,
      "outputs": []
    },
    {
      "cell_type": "markdown",
      "source": [
        "If you use qualitative coding research software, you may even have even noticed a button that performs sentiment analysis on your data. Alternatively, if you’ve ever worked as a content moderator, you may have also used a sentiment analysis button to help you zone in on potentially problematic content using highly negative sentiment scores as a filter. If you work as an administrator, or have access to learning analytics platforms at your institutions, you may even have seen buttons that provide sentiment analysis of student reviews of different courses and teachers.\n",
        "\n",
        "To be clear, we are not suggesting that the actual code used in these or other professional platforms is as simplistic as the coding example we will share below. Sentiment analysis tools in real-world applications are typically built on far more sophisticated algorithms. Our example is intentionally simplified to support our main goal: helping you learn how to read Python code. That said, the broader point remains important—the principles we are illustrating about reading code can help us become more critically aware of how computational processes perform rhetorical functions. Even in more complex or commercial systems, code plays a key role in shaping how information is categorized, interpreted, and acted upon. This example is meant to open up that line of critical inquiry in an accessible way.\n"
      ],
      "metadata": {
        "id": "0S-ZCR5_TCBb"
      }
    },
    {
      "cell_type": "markdown",
      "source": [
        "### 5.2 Explanations and Annotations for Sample Python Code in 5.1\n",
        "\n",
        "#### A. Types of sentences in Python Code\n",
        "\n",
        "Typically, Python code is written using two kinds of ‘sentences’ or ‘sentence fragments.’ One is called a line of code or a coding statement, which tells the computer what to do, usually marked in black. The second, a comment which tells human readers what the code means, usually marked in green and starting with a “#”. The # symbol tells the computer to ignore the immediate sentence after this character and is primarily used to notate a comment or description of what happens in subsequent the code for human readers. Both of these are text-based, with the capacity of containing semantic and rhetorical meaning. Let’s look at a sample Python coding statement from our example above to understand how these basic ideas work:\n"
      ],
      "metadata": {
        "id": "1gTBPQByIoRe"
      }
    },
    {
      "cell_type": "code",
      "source": [
        "# A student review of a teacher\n",
        "review = \"The course was challenging and the professor was intense, but I learned a lot and don’t feel intimidated anymore.\"\n"
      ],
      "metadata": {
        "id": "GUmQJ158JBiN"
      },
      "execution_count": null,
      "outputs": []
    },
    {
      "cell_type": "markdown",
      "source": [
        "In the example above, we see first that there is a comment, which reads ‘# A student review of a teacher’. Note that the “#” is what marks this as a comment. This comment offers a summary of what comes next to human readers of the code. What follows next, which looks a lot like an equation, is what would be called a coding statement and is meant to be processed by the computer. It may look to you like an equation, like in algebra class. Such coding statements can be used for various purposes, most importantly, to define *variables*, store different types of data in them, and to write *functions* that perform complex operations on that data. When you run the code cell above, you are saving the sentence \"The course was challenging...\" into a *variable* called \"review.\" Let us look at how this happens in a little more detail.\n",
        "\n",
        "#### B. Variables and Types of Data\n",
        "\n",
        "In algebra, one often writes sentences like “x = 5” to create a *variable* or placeholder titled “x” and assign it a value of “5” with the equals sign. A lot of computer code follows a similar syntax to create *variables* where different types of data can be stored.\n",
        "\n",
        "In the example above, we have what appears to be a complete sentence, bounded by quotes: “The course was challenging and the professor was intense but I learned a lot and don’t feel intimidated any more.” This sentence is preceded by the word ‘review,’ and the two are connected by an equals sign. Like in algebra, we are introducing a *variable* that we are naming “review” , and we are assigning it a certain textual value that is defined by whatever comes after the equals sign. *Variables* are shorthand for larger amounts of content, so that we can refer to it in our code more easily. We use the equals sign (=) to store this information, so here we are saving the sentence “The course was challenging and the professor was intense but I learned a lot and don’t feel intimidated any more” to the *variable* “review.” Typing “review” is much faster than typing out this sentence! In more advanced code you may find that the *variable* may be a letter, like “x” in a lot of algebra, or a shorthand abbreviation for a larger name. The way you choose your variable names is entirely up to you, but for ease of memory, you may want to keep them simple and easy to remember.\n",
        "\n",
        "While choosing a *variable* name is relatively open to coders’ choices, other types of syntactic choices, like using an equals sign (=) when creating *variables* and storing data in them, are pre-determined and cannot be changed. All computer languages have pre-defined syntax based on which coding statements become meaningful. Using an equals sign (=) to define *variables* and store different types of data in them is a syntactical norm that the creators of Python developed. All computing languages use *variables* for the same purpose, which Bostroem et al. (2016) associate with the image of a sticky note. They write that “assigning a value to a *variable* is like putting that sticky note on a particular value” (n.p.). But different languages many have different syntax for defining and storing *variables*.\n",
        "\n",
        "Most computer languages, including Python, allow us to save a wide range of types of data within *variables*. For this lesson, we need to learn about two basic types of data in Python: *integers* and *strings*. We could save the number “5” in a *variable* we call “x” and that would be an example of an *integer* data type. The second datatype called *string* specifically refers to a *string* or chunk of textual characters. Such *strings* can have meanings that are sensible to human readers, or they could be a collection of meaningless, random textual characters too. The sentence that we saved in the *variable* “review” would be an example of a *string*.\n",
        "\n",
        "Now we that we have an understanding of *variables* and the different types of data that can be stored in them, let’s move on to the next part of our coding example.\n",
        "\n",
        "In the next step, we build a thesaurus of sorts to analyze the language in the review. The comment (marked by the # symbol) describes the activity: we’re choosing words to apply being representative of ‘negative’ sentiments. Like before, we are seeing *variables* being assigned a meaning. This time our *variables* are \"negative_word_1,\" \"negative_word_2,\" and so on.\n"
      ],
      "metadata": {
        "id": "BvnNDqMZJ_fV"
      }
    },
    {
      "cell_type": "code",
      "source": [
        "# Negative words to check\n",
        "negative_word_1 = \"challenging\"\n",
        "negative_word_2 = \"intense\"\n",
        "negative_word_3 = \"hard\"\n",
        "negative_word_4 = \"confusing\"\n",
        "negative_word_5 = \"intimidated\"\n"
      ],
      "metadata": {
        "id": "3RvnS9pILwOF"
      },
      "execution_count": null,
      "outputs": []
    },
    {
      "cell_type": "markdown",
      "source": [],
      "metadata": {
        "id": "0cUFhDeXLy0U"
      }
    },
    {
      "cell_type": "markdown",
      "source": [
        "The next part of the code saves certain English words that we as coders think are usually used to convey negative sentiments or concepts in *variables* named as \"negative_word_1,\" \"negatƒive_word_2\" and so on. For instance, when you run the code cell above, the variable “negative_word_1” will contain the word “challenging,”, the *variable* “negative_word_2” will contain the word “intense” and so on.\n",
        "\n",
        "Now that we have a set of *variables* that contain these negative words, we need to find out how many times these words appear in our student review.\n",
        "\n",
        "The code below does this in two steps. First, it counts how many times each negative word appears in the “review” *string* and then adds those counts together. Let’s see how that happens.\n"
      ],
      "metadata": {
        "id": "rBiBSB1lL1FJ"
      }
    },
    {
      "cell_type": "code",
      "source": [
        "# Count how many times each negative word appears\n",
        "neg_1 = review.count(negative_word_1)\n",
        "neg_2 = review.count(negative_word_2)\n",
        "neg_3 = review.count(negative_word_3)\n",
        "neg_4 = review.count(negative_word_4)\n",
        "neg_5 = review.count(negative_word_5)\n",
        "\n",
        "# Total negative score\n",
        "negative_score = neg_1 + neg_2 + neg_3 + neg_4 + neg_5\n"
      ],
      "metadata": {
        "id": "ltG4dbVRMbZ-"
      },
      "execution_count": null,
      "outputs": []
    },
    {
      "cell_type": "markdown",
      "source": [
        "Please run the cell above. To understand what is happening in these lines of code, we need to first understand something called *functions* in Python.\n",
        "\n",
        "#### C. Functions\n",
        "\n",
        "Apart from storing different types of data in *variables*, the other major use of coding statements is to create something called *functions* which allow us to perform complex analytic operations on the data we have stored. A *function* is a series of commands or coding statements that perform certain actions on a given set of data, and which can be packaged together with a name so that it becomes easier to reuse. It is essentially “a shorthand way of re-executing longer pieces of code” (Bostroem et al., 2015, n.p.). The really powerful thing about *functions* is that while we can create *functions* of our own, we can also borrow those that other coders have already created and shared with the world, in a way similar to how we borrow academic ideas from scholars that we read and engage with. One such *function* that is used in the coding example above is something called the “count” *function*.\n",
        "\n",
        "Python Software Foundation (2001-2025), the organization that created the Python language, provided some in-built *functions*, like “count” for all users to apply for their work<sup>[6](#fn6)</sup>. This is a *function* specifically for string variables. This provides the ability to perform a quantification of the number of times a character or a substring appears in another string that interests us.\n",
        "\n",
        "So when we write neg_1=review.count(negative_word_1), we are telling Python to count the number of times the word stored in the variable “negative_word_1” appears in the string we have saved in the variable review and then to save that count in another integer variable that we have named “neg_1.”  \n",
        "\n",
        "Similarly, when we write neg_2 = review.count(negative_word_2), we are telling Python to count the number of times the word stored in the variable negative_word_2 appears in the string we have saved in the variable review and then to save it in a new variable that we have named “neg_2.”\n",
        "\n",
        "This goes on for all the negative words. Once this is done, we need to add up all these counts to get a total negative score. This is done by the code below:"
      ],
      "metadata": {
        "id": "k3VSh_s-Me8V"
      }
    },
    {
      "cell_type": "code",
      "source": [
        "# Total negative score\n",
        "negative_score = neg_1 + neg_2 + neg_3 + neg_4 + neg_5"
      ],
      "metadata": {
        "id": "a4bEnp90NPb8"
      },
      "execution_count": null,
      "outputs": []
    },
    {
      "cell_type": "markdown",
      "source": [
        "When you run the code cell above, you will have created yet another *integer variable*  called “negative_score” and asked Python to save in it the result of adding all the values in “neg_1,” “neg_2,” “neg_3,” “neg_4,” and “neg_5.” This gives us a total negative sentiment score for the *string* we saved in “review.”\n",
        "\n",
        "We can then repeat the same process for positive words using what we’ve just learned previously:\n"
      ],
      "metadata": {
        "id": "TekEkIOgNTcm"
      }
    },
    {
      "cell_type": "code",
      "source": [
        "# Positive words to check\n",
        "positive_word_1 = \"learned\"\n",
        "positive_word_2 = \"confident\"\n",
        "positive_word_3 = \"valuable\"\n",
        "positive_word_4 = \"helpful\"\n",
        "positive_word_5 = \"great\"\n",
        "\n",
        "# Count how many times each positive word appears\n",
        "pos_1 = review.count(positive_word_1)\n",
        "pos_2 = review.count(positive_word_2)\n",
        "pos_3 = review.count(positive_word_3)\n",
        "pos_4 = review.count(positive_word_4)\n",
        "pos_5 = review.count(positive_word_5)\n",
        "\n",
        "# Total positive score\n",
        "positive_score = pos_1 + pos_2 + pos_3 + pos_4 + pos_5"
      ],
      "metadata": {
        "id": "TIgml86kN0vE"
      },
      "execution_count": null,
      "outputs": []
    },
    {
      "cell_type": "markdown",
      "source": [
        "Once you run the code cell above, we will have two *variables*, one called “negative_score” and another called “positive_score” which contain our calculated values. We still haven’t seen what those values are though.\n",
        "\n",
        "Remember that right now, we have only stored those values in these *variables*. We haven’t yet displayed them. Since computers require all instructions in sometimes excruciating detail, we have to give them commands both for storing values as well as for displaying them. To display values stored in a *variable*, we make use of another in-built function called the “print” function. You will see that \"print\" will call up the information we have stored in our *variables* and display it for us following the below process.\n"
      ],
      "metadata": {
        "id": "Mf4Ws3CkN40u"
      }
    },
    {
      "cell_type": "code",
      "source": [
        "# Print the review and scores\n",
        "\n",
        "print(\"Student review:\")\n",
        "print(review)\n"
      ],
      "metadata": {
        "id": "keXf080nPZlY"
      },
      "execution_count": null,
      "outputs": []
    },
    {
      "cell_type": "markdown",
      "source": [
        "In the code cell above, we ask the computer to \"print\" (i.e. show us) the phrase “Student Review:” to introduce the next line, which will be the text that got saved in the *variable* \"review\".\n",
        "\n",
        "What values do you see on running the code cell above?\n",
        "\n",
        "In this way, you can use the \"print\" command at any juncture in your code to find out what you are working with, which is very helpful.  \n",
        "\n",
        "Now that we have our text to analyse in front of us for reference, we can display or \"print\" the values we calculated for the positive and negative scores. Run the cell below to display those."
      ],
      "metadata": {
        "id": "Urid-LqQPb8P"
      }
    },
    {
      "cell_type": "code",
      "source": [
        "print(\"Positive score:\")\n",
        "print(positive_score)\n",
        "print(\"Negative score:\")\n",
        "print(negative_score)"
      ],
      "metadata": {
        "id": "LYhxQ6ZWQmZE"
      },
      "execution_count": null,
      "outputs": []
    },
    {
      "cell_type": "markdown",
      "source": [
        "In the lines of code above, we are asking Python to first preface the outcome with the phrases “Positive score:” or “Negative score:” so we know which is which, and it calls up the variable we created a few steps ago to calculate those scores. Another minor syntax detail to be mindful of here is that whenever printing values in a variable, we can include the name of the variable as is within brackets. However, when we want to print some text, like the phrase “Positive score:” here, we need to include double quotes to ensure Python understands that this is not a variable but text we want printed.\n",
        "Asking Python to print the scores provided in the steps above, we can now see what the outcome was.\n",
        "\n",
        "Doing this for each variable may feel repetitive and boring, but the benefit is that a user can be wholly in control of the process. And once you figure out how to ask Python to do something for one variable, it is easy to replicate for another variable immediately!\n",
        "\n",
        "We now finally come to the last part of the code which is used to decide whether or not the teacher rating was positive or negative. And for this final bit, we need to understand a very interesting and powerful feature of computer coding called *If/Else Statements*.\n",
        "\n",
        "#### D. If/Else Statements  \n",
        "\n",
        "The *if/else* statement allows us to create a flow-chart like logic in our coding statements, such that we can tell the computer that if a certain threshold is met, do one thing. If it does not (else), do this other thing. A lot of Python runs on these kinds of statements that you might have come across in logic classes in introductory philosophy or mathematics courses.\n",
        "\n",
        "In our example, if the positive score is higher than the negative score, we are going to use our friend print to display what kind of teacher rating we have established. Run the code cell below to see how it happens in code. What output do you see?"
      ],
      "metadata": {
        "id": "k5R1me5EN2Cv"
      }
    },
    {
      "cell_type": "code",
      "source": [
        "# Decide and print rating\n",
        "if positive_score > negative_score:\n",
        "    print(\"→ Teacher Rating: POSITIVE\")\n",
        "else:\n",
        "    print(\"→ Teacher Rating: NEGATIVE\")\n"
      ],
      "metadata": {
        "id": "Vq1gAciHR3tn"
      },
      "execution_count": null,
      "outputs": []
    },
    {
      "cell_type": "markdown",
      "source": [
        "#### E. Computational thinking\n",
        "\n",
        "So far in this section, we have walked you through the steps of reading and working with a Python program for assessing how positive or negative a student’s review of a particular teacher was. We helped you interact with the code pieces directly and provided a step-by-step description of each part of the process. We introduced and defined several major components of the Python coding language - *variables*, *data types*, *functions*, and *if/else* logic statements- to illustrate how Python operates with a real-life example. This has the benefit of showing how each ‘sentence’ of the code works, both in a textual and interactive format.\n",
        "\n",
        "Through our example and ensuing explanation, we have introduced you to not just some basics of computer coding in Python, but also to something that goes by various names in computing circles like “algorithmic thinking” (Futschek, 2006) or “computational thinking” (Wing, 2006,) or even “proceduracy” (Vee, 2010).\n",
        "\n",
        "This set of overlapping skills involves the “ability to analyze a given problem, [...] find basic actions that are adequate to it, construct an algorithm” (Futschek, 2006, p. 160) which is a set of well-defined steps or small-procedures that would help solve it, and “then express—or \"write\"—those procedures in a standard format that may be \"read\" by a non-human entity such as a computer” (Vee, 2010, p. 3).\n",
        "\n",
        "Such computational ways of thinking are an essential part of “coding literacy” (Vee, 2017) and can help digital rhetoricians and compositionists better understand and analyze the rhetorical role that digital media and their underlying substrate of computer code play in the world. In our example, we showed one of the ways in which the problem in front of us—how to analyze student reviews—could be solved computationally. There are many other ways in which different algorithms and coding solutions could’ve been written to address the same problem. Each computational procedure that we chose in our solution, and each line of code that we wrote to implement those procedures, involved rhetorical choices which shaped the results that finally emerged. We discuss this in more detail in the next section below.  \n"
      ],
      "metadata": {
        "id": "ls6q2mwbSRN4"
      }
    },
    {
      "cell_type": "markdown",
      "source": [
        "### 5.3 Rhetorical Interpretations of Sample Python Code\n",
        "\n",
        "In section 5.1, we used an example of a brief Python program that evaluates student reviews of teachers as positive or negative. We  chose an activity that is specifically relevant to someone in a teaching environment, as we know that student reviews of instructors are often collected at the end of a semester. Although our example only looks at one student’s review, one can imagine that it would be possible to aggregate all the students’ reviews from a specific class for this process. And doing such an analysis has real-world implications – for example, if you were an administrator, and you were using a software that uses our two lists of pos_words and neg_words, it is possible that some reviews could get mis-classified as negative based on how certain vocabulary might be used.\n",
        "\n",
        "Our example shows how our program classifies the sample review as negative - “The course was challenging and the professor was intense, but I learned a lot and don’t feel intimidated anymore.” While the review contains words like “challenging,” “intense,” and \"intimidated\" that in isolation might seem negative, when we see how they are used in context in the sentence, it is easy for human readers, especially those of us who are teachers, to understand that the student is actually appreciating rather than criticizing the teacher. Our Python program however is based on an algorithmic choice where individual words are used in isolation to calculate an overall sentiment score even though words like “challenging” can be considered to be positive or negative depending on how they are is used in context. Such misclassifications, if enacted in the real world, could have a drastic impact on a teacher’s career and could even lead to what scholars like Baker and Hawn (2022) have called “algorithmic bias” or “algorithmic unfairness.”\n",
        "\n",
        "While our code provides a somewhat exaggerated and simplistic example to illustrate the point that a computational reading of a students’ review might lead to disastrous effects in the absence of human readers’ qualitative contextualization and/or more fair algorithms, it still gestures towards problems that are not entirely imaginary.  For instance, Rajput et al. (2016) argue that general purpose sentiment classifiers often misclassify the sentiment scores of words which may have different contextual meanings in academic settings. For instance, they show how the word “miss” is scored as negative in several general purpose sentiment classifiers which interpret it as referring to a lack or absence, whereas in a educational settings, the word “miss” should mostly be scored as neutral since it often refers simply to a female teacher. Yet others have also also questioned the reliability and validity of such keyword based sentiment analysis algorithms altogether and called for using more robust algorithms like deep learning or neural network algorithms that have more context sensitivity (Lei and Liu, 2019). Due to the black-boxed and proprietary nature of many sentiment analysis softwares that we might come across though, like in learning analytics or qualitative coding programs, we can't always tell what kind of algorithms are being used.\n",
        "\n",
        "We hope that this example illustrates how having even a basic understanding of what code does can provide a better understanding of how everyday algorithms impact our lives. With some coding literacy, one can look “under the hood” and see how our code is assigning positive and negative scores and with some practice one could even revise the code to better serve their disciplinary and professional needs. For example, you may want to create a third set of words called neutral_words that could go either way depending on context. Following the rules of positive_words and negative_words and how we ran our function and calculations, it could be possible to draw out more nuanced outcomes, or to establish a more ethical outcome by putting words like “challenging” into a neutral category that requires context-based human scores. Or we could redefine each of our lists completely and get totally different results.\n",
        "\n",
        "Moreover, we can see how code has the rhetorical potential to shape our lives – without knowing what is in the list of positive and negative words and what kind of computations they undergo, it is challenging to fully understand what choices are being made by programs like this. We have used this example of performing sentiment analysis to illustrate common vocabulary and syntax in Python. In more advanced practice, you may want to use something longer or more complex as our stand in for the review variable (corpora of student writing, the full text of literary texts like Moby Dick, a series of articles, a collection of harvested content from Reddit, etc.) But the basic principles of performing this kind of analysis carry over into a lot of other domains. How many \"negative\" words are in a sample of a subreddit about US politics offers a second example of sentiment analysis. Calculating the density of whales and boats in Moby Dick compared to whales and boats in scholarly articles about Moby Dick offers a comparison between two corpora. Other examples could be observing hedging words (like “perhaps”) and booster words (like “certainly”) in a corpus of articles in humanities journals and compare those to the density of hedges and boosters a corpus of articles in STEM journals to understand variations in disciplinary rhetorics. Yet others many want to use such computational techniques to help students perform a fine-grained genre analysis of sample texts while introducing them to new genres in writing classes. Of course, these are just illustrative examples, and there are thousands of other ways you can use code to perform different kinds of quantitative and qualitative analyses. Some of them can grow to be quite complicated. But, they use the basic building blocks of computational vocabulary and syntax that we have introduced in this webtext.\n",
        "\n",
        "To be sure, the kind of introductory literacy in Python that our webtext teaches is not intended to magically make you an expert who can start to critically analyze extremely complex algorithms in computer applications around you. However, it can become the starting point for a critical investigation, by enabling you and other digital rhetoricians to collaborate with more advanced practitioners (such as collaborators in disciplines with a more computational trajectory, such as the social sciences, business, computer science, and information science) who work on critically anlayzing and transforming algorithms for greater social good. Knowing how to read the code is half the battle won for being able to comprehend what your collaborators may be doing, and even if you are still not sure about the methods, they can certainly help you understand the why more clearly if you understand the what of the code.\n"
      ],
      "metadata": {
        "id": "QgbM9jJoTNUb"
      }
    },
    {
      "cell_type": "markdown",
      "source": [
        "## 6. Conclusion\n",
        "\n",
        "Through this webtext, we have provided you with an introductory lesson in computer coding in Python, with some examples of how such a coding literacy can help us engage more critically with the many layers of algorithms in our daily lives. We see a growing interest in coding literacy and computational methods, coming from disciplinary corners including but certainly not limited to information science, computer science, computational social sciences, digital humanities, and digital art history, all converging into a particular space we might want to call “computational approaches to disciplinary objects of inquiry.” The visual rhetoric produced by these disciplinary angles is also interesting and meaningful, and is further ripe for rhetoricians to analyze. For example, work that comes out of the website http://pudding.cool/ provides a wildly successful digital storytelling platform for pulling together interdisciplinary work and research with rhetorical angles on text, visual culture, and social issues. Jeremy Singer-Vine’s weekly *Data is Plural* (2015-present) newsletter similarly provides weekly access to data sets that are ripe and ready for analysis. These are several ways we envision researchers may choose to engage with these concepts.\n",
        "\n",
        "If you are interested in more novice-friendly resources for growing code-based literacies, we recommend exploring resources like *The Carpentries* lessons and workshops (Teal et al., 2015) and JSTOR’s *Text Analysis Pedagogy Instititue* materials (JSTOR Labs, 2019-2025)<sup>[7](#fn7)</sup>. There is a large, collaborative, and open-educational community around programming skills, and while we cannot highlight all of them, we especially like the *Programming Historian* and Melanie Walsh’s (2021) *Introduction to Cultural Analytics and Python* textbook as solid next steps offering accessible training for someone interested in building next steps and skills. YouTube and online programming courses are also great places to explore. More advanced options include working through O’Reilly’s cookbook series or watching Youtube lectures and/or tutorials<sup>[8](#fn8)</sup>, seeking out data science or programming courses offered across different departments at your university, or attending lectures or workshops on topics like programming, computational analysis, and data science. In addition to more traditional disciplinary homes like Linguistics and Computer Science, the social sciences (sociology, demography, political science, psychology, etc)  and Business have rapidly grown interest in using code in their research and teaching, so it may be worth seeing where these pockets live at your campus. Many university libraries host hands-on training or workshops on coding and they could be another great resource.\n",
        "\n",
        "We are conscious that we cannot cover every aspect of programming and coding with Python in this short web-text introduction. We wrote this tutorial to provide an on-ramp for novices who want to learn a little about Python and familiarize themselves with the language, but may not be ready (or keen) to produce their own code yet. As we set out to achieve at the beginning of this web-text, we hope that by engaging with our work, you’ve been able to i) experience how computer code in Python works at a micro-scale; ii) develop a basic reading comprehension of computer code in Python; and iii) learn about free, open source resources through which you can continue learning Python for your work.  \n",
        "\n",
        "Finally, we plan to expand on this web-text with a followup piece that will provide novices additional on-ramps to performing text and data analysis aimed specifically at the rhetoric, writing, and communication community. As we do this, we continue to be guided by Vee’s (2017) vision, which involves seeing that \"what digital literacies all have in common is computer programming. As a fundamental condition of contemporary writing, programming is the substrate in which these reactions occur; it’s the platform on which they’re constructed. Focusing on programming allows us to see this ecology of digital literacies more fully\" (Vee, 2017, p. 6). We hope that our project helps you see such the digital literacies around you more fully!"
      ],
      "metadata": {
        "id": "QeAkQTiiV9Uw"
      }
    },
    {
      "cell_type": "markdown",
      "source": [
        "## AI Use Statement\n",
        "\n",
        "Taking inspiration from Eyman (2024), Anuj explored the use of ChatGPT as a supplementary tool to help realize our rhetorical vision and ensure coherence between the design and argument of this webtext—particularly for coding-related components. ChatGPT was used in three ways: (1) to brainstorm ideas for the sample coding exercise in Section 5.1; (2) to translate pseudo-code or plain-language descriptions into Python code and assist with debugging; and (3) to provide technical guidance for integrating the webtext’s HTML with Google Colab and hosting the integration on GitHub.\n",
        "\n",
        "In keeping with *Kairos*’ [AI Policy](https://kairos.technorhetoric.net/about.html), all AI-generated code and suggestions were critically reviewed and—where necessary—modified by Anuj to ensure accuracy and alignment with our vision. The use of ChatGPT was intended to support, not replace, human expertise, and all conceptual, analytical, and editorial decisions remained under both human authors of this webtext.\n",
        "\n",
        "For readers interested learning more, transcripts of these AI interactions are available through the citations (ChatGPT, 2025 a, b, c). Anuj would like to share them to model responsible AI use in digital scholarship and to demonstrate how such tools can lower technical barriers for scholars without formal training in computer science, while preserving scholarly rigor and intellectual ownership."
      ],
      "metadata": {
        "id": "1n12wv6tN2Mq"
      }
    },
    {
      "cell_type": "markdown",
      "source": [
        "\n",
        "\n",
        "### Footnotes\n",
        "\n",
        "<a name=\"fn1\">1</a>: See for example ​​this great guide on working with Qualitative Data Analysis (QDA) from the University of Illinois: https://guides.library.illinois.edu/qualitative\n",
        "\n",
        "<a name=\"fn2\">2</a>: https://www.Python.org/about/.\n",
        "\n",
        "<a name=\"fn3\">3</a>:There are other programming languages, like Julia, SQL, Ruby, Fortran, C++, etc. They all have specific strengths and weaknesses. Python and R are by far the most popular in terms of use.\n",
        "\n",
        "<a name=\"fn4\">4</a>: Heather once made a comment to this effect to a bunch of German speakers. They all pointed out that to non-native speakers of English, Python can feel harder precisely because of this reliance on the English vocabulary and concepts that do not always map in a 1:1 way to their first language.\n",
        "\n",
        "<a name=\"fn5\">5</a>: Anuj used ChatGPT to brainstorm ideas and revise Python code for this exercise. To see transcripts of this process, please see ChatGPT (2025a, 2025b).\n",
        "\n",
        "<a name=\"fn6\">6</a>: There are thousands of such in-built *functions* in Python that you can read more about here: https://docs.Python.org/3/library/functions.html. Like in academic writing, coding too has citation norms which vary based on context. It is always a good practice to cite the *functions* that we borrow from others. Usually the sources that we get the *functions* from have information about how to cite them. If you are coding for a class or for a publication, it is always a good idea to check with your teachers or editors their preferred style for citing and acknowledging the code that you've adapted for borrowed from.\n",
        "\n",
        "<a name=\"fn7\">7</a>: JSTOR shuttered Constellate on July 1, 2025. Their github account hosts all remaining content at https://github.com/ithaka/constellate-notebooks, provided by JSTOR’s Constellate education program (2019-2025).\n",
        "\n",
        "\n",
        "<a name=\"fn8\">8</a>: Anuj especially likes https://www.youtube.com/@Python-programming as one of many YouTube resources that are available.\n",
        "\n",
        "\n"
      ],
      "metadata": {
        "id": "uoCQdEYhQ0Ox"
      }
    },
    {
      "cell_type": "markdown",
      "source": [
        "\n",
        "\n",
        "##Acknowledgements\n",
        "\n",
        "Anuj would like to express immense gratitude to to Jeffrey Oliver and Megan Senseney for the *Digital Scholarship and Data Science Fellowship Program* that they organised through the University of Arizona's University Libraries. Anuj developed an early version of this tutorial as part of that fellowship. He is also grateful to Charlie Gomez and his  *INFO 514: Computational Social Science* class at the University of Arizona where Anuj first learnt about the power of computational notebooks for teaching coding.\n",
        "\n",
        "Both Anuj and Heather would also like to express their gratitude to the reviewers at Kairos, without whose kind and thoughtful reading, this final version of the webtext would never have been possible."
      ],
      "metadata": {
        "id": "SC3alvuhSFJF"
      }
    },
    {
      "cell_type": "markdown",
      "source": [
        "## Works Cited\n",
        "\n",
        "Baker, R. S., & Hawn, A. (2022). Algorithmic Bias in Education. International Journal of Artificial Intelligence in Education, 32(4), 1052–1092. https://doi.org/10.1007/s40593-021-00285-9\n",
        "\n",
        "Beck, E. (2016). A Theory of Persuasive Computer Algorithms for Rhetorical Code Studies | enculturation. Enculturation: A Journal of Rhetoric, Writing, and Culture. https://enculturation.net/a-theory-of-persuasive-computer-algorithms\n",
        "\n",
        "Beazley, D., & Jones, B. (2013). Python Cookbook, Third Edition (3rd edition), O’Reilly Media.\n",
        "\n",
        "Bird, S., Klein, E., & Loper, E. (2009). Natural Language Processing with Python.  O’Reilly Media.\n",
        "\n",
        "Boichak, O., Jackson, S., Hemsley, J., & Tanupabrungsun, S. (2018). Automated Diffusion? Bots and Their Influence During the 2016 U.S. Presidential Election. Transforming Digital Worlds, 17–26. https://doi.org/10.1007/978-3-319-78105-1_3\n",
        "Bostroem, A., Bekolay, T., & Staneva, V. (2016). Software Carpentry:\n",
        "\n",
        "Eyman, D., & ChatGPT. (2023). Making a Webtext with ChatGPT. Kairos, 28(1). http://kairos.technorhetoric.net/28.1/disputatio/eyman-chatgpt/index.html\n",
        "\n",
        "Programming with Python (Version 2016.06) [Computer software]. 10.5281/zenodo.57492. https://github.com/swcarpentry/python-novice-inflammation\n",
        "\n",
        "Brock, K., & Shepherd, D. (2016). Understanding How Algorithms Work Persuasively Through the Procedural Enthymeme. Computers and Composition, 42, 17–27. https://doi.org/10.1016/j.compcom.2016.08.007\n",
        "\n",
        "Byrd, A. (2023). Truth-Telling: Critical Inquiries on LLMs and the Corpus Texts That Train Them. Composition Studies, 1, 135–142.\n",
        "\n",
        "ChatGPT. (2025a, May 10). Help me with idea... A.I. Archives. https://aiarchives.org/id/hlJ320ubjm3bB5NbKMRp\n",
        "\n",
        "ChatGPT. (2025b, August 2). The code below is... A.I. Archives. https://aiarchives.org/id/tS2MHAKMYilvEkBXX9rp\n",
        "\n",
        "ChatGPT. (2025c, August 9). Provide a step by... A.I. Archives. https://aiarchives.org/id/UxNcN8eprbK7AzOLonUD\n",
        "\n",
        "Futschek, G. (2006). Algorithmic Thinking: The Key for Understanding Computer Science. Informatics Education – The Bridge between Using and Understanding Computers, 159–168. https://doi.org/10.1007/11915355_15\n",
        "\n",
        "Gallagher, J. R. (2023). Lessons Learned from Machine Learning Researchers about the Terms “Artificial Intelligence” and “Machine Learning.” Composition Studies, 51(1), 149–154.\n",
        "\n",
        "Ingraham, C. (2014). Toward an Algorithmic Rhetoric. In G. Verhulsdonck & M. Limbu (Eds.), Digital Rhetoric and Global Literacies: Communication Modes and Digital Practices in the Networked World. IGI Global. https://doi.org/10.4018/978-1-4666-4916-3\n",
        "\n",
        "JSTOR Labs. (2019, December 13). Constellate. JSTOR Labs. https://labs.jstor.org/projects/text-mining/\n",
        "\n",
        "Laquintano, T., & Vee, A. (2017). How Automated Writing Systems Affect the Circulation of Political Information Online. Literacy in Composition Studies, 5(2), 43–62. https://doi.org/10.21623/1.5.2.4\n",
        "\n",
        "Lei, L., & Liu, D. (2021). Conducting Sentiment Analysis (1st ed.). Cambridge University Press. https://doi.org/10.1017/9781108909679\n",
        "\n",
        "Lindgren, C. (2021). Writing With Data: A Study of Coding on a Data-Journalism Team. Written Communication, 38(1), 114–162. https://doi.org/10.1177/0741088320968061\n",
        "\n",
        "Lindgren, C., & Ridolfo, J. (2020). Rhetmap.org: Composing Data for Future Re-Use and Visualization. Kairos: Rhetoric, Technology, and Pedagogy, 25(1). https://praxis.technorhetoric.net/tiki-index.php?page=PraxisWiki:_:rhetmap\n",
        "\n",
        "Lussos, R. G. (2018). Twitter Bots As Digital Writing Assignments. Kairos: Rhetoric, Technology, and Pedagogy, 22(2). http://praxis.technorhetoric.net/tiki-index.php?page=PraxisWiki%3A_%3ATwitterBots\n",
        "\n",
        "ProgHist Ltd. (2008). Programming Historian. https://programminghistorian.org/en/about\n",
        "\n",
        "Python Software Foundation. (2001). Python 3.13 [Computer software]. https://docs.python.org/3/\n",
        "\n",
        "Quigley, S. J. (2022). Basic Coding. 26.2. https://kairos.technorhetoric.net/26.2/disputatio/quigley/index.html\n",
        "\n",
        "Rajput, Q., Haider, S., & Ghani, S. (2016). Lexicon-Based Sentiment Analysis of Teachers’ Evaluation. Applied Computational Intelligence and Soft Computing, 2016(1), 2385429. https://doi.org/10.1155/2016/2385429\n",
        "\n",
        "Singer-Vine, Jeremy. (2025). Data is Plural newsletter archive, October 2015-present. https://www.data-is-plural.com/archive/\n",
        "\n",
        "Teal, T. K., Cranston, K. A., Lapp, H., White, E., Wilson, G., Ram, K., & Pawlik, A. (2015). Data Carpentry: Workshops to Increase Data Literacy for Researchers. International Journal of Digital Curation, 10(1), 135–143. https://doi.org/10.2218/ijdc.v10i1.351\n",
        "\n",
        "Vee, A. (2017). Coding Literacy: How Computer Programming Is Changing Writing. The MIT Press. https://doi.org/10.7551/mitpress/10655.001.0001\n",
        "\n",
        "Walsh, Melanie (2021). Introduction to Cultural Analytics & Python, Version 1,https://doi.org/10.5281/zenodo.4411250.\n"
      ],
      "metadata": {
        "id": "tFbXTpRqRxO9"
      }
    }
  ]
}