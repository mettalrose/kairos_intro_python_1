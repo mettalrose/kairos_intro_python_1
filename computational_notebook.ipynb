{
  "nbformat": 4,
  "nbformat_minor": 0,
  "metadata": {
    "colab": {
      "provenance": [],
      "include_colab_link": true
    },
    "kernelspec": {
      "name": "python3",
      "display_name": "Python 3"
    },
    "language_info": {
      "name": "python"
    }
  },
  "cells": [
    {
      "cell_type": "markdown",
      "metadata": {
        "id": "view-in-github",
        "colab_type": "text"
      },
      "source": [
        "<a href=\"https://colab.research.google.com/github/mettalrose/kairos_intro_python_1/blob/main/computational_notebook.ipynb\" target=\"_parent\"><img src=\"https://colab.research.google.com/assets/colab-badge.svg\" alt=\"Open In Colab\"/></a>"
      ]
    },
    {
      "cell_type": "markdown",
      "source": [
        "# A Gentle DIY Introduction to Reading Python for Rhetoricians\n",
        "\n",
        "### — Anuj Gupta (University of South Florida)\n",
        "###— Heather Froehlich (University of Arizona)\n",
        "\n",
        "\n",
        "*Let's get started!*\n"
      ],
      "metadata": {
        "id": "SkP4RWONGn_A"
      }
    },
    {
      "cell_type": "markdown",
      "source": [
        "## **Abstract**\n",
        "\n",
        "This webtext is a pedagogical tool that supports students, teachers, and researchers in writing studies and allied fields who are interested in gaining a beginner-friendly introduction to the computer language Python. Specifically, this webtext consists of a computational notebook, which is a web interface that weaves together multiple modalities of HTML markup, written text, and coding snippets to provide an interactive experience with computer code. The written text in this interface helps users navigate, run, and edit the code snippets and engage with their outputs. By using this webtext, users will develop an ability to read basic code in Python—which is arguably one of the most widely used computer languages today and has played a major role in the development of practices like data science and artificial intelligence, which are rapidly impacting the field of digital rhetoric. Since computer code, especially that which is written in Python, plays a key infrastructural role that undergirds many forms of writing, rhetoric, and culture in our digitally mediated worlds, developing basic literacy in it can enable us to cultivate a critical awareness of our digital lives. You can use this tutorial independently or integrate it into a classroom setting.\n"
      ],
      "metadata": {
        "id": "Ix3xoGj1Gzoz"
      }
    },
    {
      "cell_type": "markdown",
      "source": [
        "## **Part 1 Overview**\n",
        "\n",
        "### 1.1 Objectives\n",
        "\n",
        "1.   Experience how computer code in Python works at a micro-scale.\n",
        "2.   Develop a basic reading comprehension of computer code in Python\n",
        "3. Learn about free, open source resources through which you can continue learning Python for your work\n",
        "\n",
        "### 1.2 Time Required\n",
        "~90 mins\n",
        "\n",
        "### 1.3 Materials Needed\n",
        "\n",
        "1. A working internet connection: This tutorial relies on the internet, so please ensure that you have a decent internet connection.\n",
        "2. Web Browser: This tutorial works best with Google Chrome, Mozilla Firefox, and Microsoft Edge.\n",
        "3. Google Colab Notebook: Google Colab is a service that provides free access to \"computational notebooks,\" which are like a Google Docs environment for writing and running computer coding. Google Collab provides a user-friendly environment to practice coding. You won’t need to download anything. We will provide instructions on how to run Google Colab in your browser in Part 4: Basic Setup.\n",
        "\n",
        "### 1.4 Prerequisite skills\n",
        "\n",
        "We have designed this tutorial assuming that our readers do not have any prior knowledge or experience working with any computer programming language, Python, or data at all. You will need a working understanding of English and curiosity about learning computer programming in Python to be able to use this tutorial.\n",
        "\n",
        "### 1.5 How to engage with this tutorial\n",
        "\n",
        "There are two ways to access this tutorial.\n",
        "\n",
        "1. Version 1 is a static version displayed on the website of the journal Kairos’ website (*add link here after publishing)*. This version contains all the content of the tutorial but doesn’t have the functionality to run the actual code.\n",
        "2. Version 2 is a dynamic version that can be accessed on the website Google Colab ([click here](https://colab.research.google.com/github/mettalrose/kairos_intro_python_1/blob/main/computational_notebook.ipynb)\n",
        "). This version contains all the content of the tutorial and also allows you to run the computer code and see the outputs it generates. We will describe in more detail how to access Version 2 in Part 4: Basic Setup below.\n",
        "3. Each part of this tutorial is designed to build upon the knowledge and information provided from the previous part. While it's recommended to experience the parts in sequence, you are welcome to explore as you wish.\n"
      ],
      "metadata": {
        "id": "HCq1l9POHCiQ"
      }
    },
    {
      "cell_type": "markdown",
      "source": [
        "## Part 2 Why learn how to read computer code in Python?\n",
        "\n",
        "To make it possible for you to read this sentence, many networks of humans, hardware devices, and computer code are currently working together. Human writers composed and edited this text using a keyboard, which then sent those keystrokes to their computers’ CPU. The CPU then converted those keystrokes into binary data and saved them in the computer’s memory and registered them as visual characters on a screen. The editors of this journal then took that data from the authors, edited it, and saved it on their server. When you clicked on the hyperlink for this page, your computer’s network sent a request to access that data from the journal’s server. After being granted permission, the journal’s server sent the data to your computer. Your computer then converted that binary data into pixels and sent it to your monitor. Finally, your monitor lit up in accordance with protocols on how to display those pixels as visual stimuli, making the text readable to your eyes or your screen readers.\n",
        "Without computer code mediating each of these steps, much modern communication would be unimaginable. This is what Anette Vee alludes to when she talks about the infrastructural role that computer code plays in shaping contemporary communication:\n",
        "\n",
        ">..throughout much of the world, computer code is infrastructural: layered over and under the technology of writing, computer code now structures much of our contemporary communications, including word processing, e-mail, the World Wide Web, social networking, digital video production, and mobile phone technology. Our employment, health records, and citizenship status, once recorded solely in text, are now cataloged in computer databases” (Vee, 2017, p. 3).\n",
        "\n",
        "Many scholars in digital rhetoric have helped us understand that this infrastructural role is not a passive, objective, or neutral form of mediation, but rather it plays an active rhetorical role in shaping meanings in our digital public spheres (e.g., Ingraham, 2014; Beck, 2016; Brock and Shepherd, 2016). For example, Laquintano and Vee (2017) show that fake news can be spread through the use of automated writing algorithms, or ‘bots’ on social media. A bot is any computer program that can automate repetitive tasks typically done by humans. While bots can be used across domains and can be helpful or harmful, Laquintano and Vee (2017) refer to specific kinds of malicious social media bots that are used by their programmers to appear to be real, human users. Such bots can assist in amplifying fake news articles or even just making certain positions seem more legitimate, thereby helping skew public discourse in certain ideological directions. During the 2016 U.S. Presidential election, many social media bots had played an active role in influencing public opinion in this manner (Boichak et al., 2016). To be a mindful social media writer, Laquintano and Vee (2017) argue, it is important to understand what bots are and the infrastructural role that their algorithms play to amplify or constrain different types of discourse. Such knowledge can also help writers generate counter-rhetorical practices. Lussos (2018), for instance, teaches her students how to customize existing coding templates to create Twitter bots that help raise awareness about social problems in the world.\n",
        "\n",
        "Social media bots are one case, but countless others—like the growing emergence of data science and generative artificial intelligence in our digital lives—have made it important for writers as well as for scholars and teachers of writing and rhetoric to have a basic working knowledge of how computer code shapes their communication. While we have a lot of scholarship in digital rhetoric and writing studies that analyzes the rhetorical role of computer programs, unfortunately we do not have enough pedagogical resources to aid in onboarding new scholars, teachers, and writers unfamiliar with how computer code works. There have been some commendable efforts by digital rhetoricians like Quigley (2022), Lindgren & Ridolfo (2020), and others to create such resources. Our tutorial aims to contribute to these ongoing efforts by, providing a novice-friendly and easy-to-use introduction that will help readers develop a basic reading comprehension of computer code in Python. It is important to remember though that the goal of this web text is to assist in basic reading comprehension of Python, not necessarily a level of production-level literacy. We have specifically chosen Python as our language of choice because of its relatively user-friendly syntax and wide applicability, especially in areas of digital writing that interest scholars of writing studies, rhetoric, and allied fields.\n",
        "\n",
        "In what follows, we will begin by introducing  some definitions in Part 3.. Then, in part 4, we provide guidance on how to use a computational notebook in Google Colab. In part 5, we move to the meat of the matter and teach you how to read Python code. To do this, we first share sample Python code we created to provide a hypothetical example of how students’ instructor reviews can get analyzed computationally in certain administrative settings. We then explain what is happening in the code through detailed explanations of foundational symbols and concepts in Python. We end this section by reflecting on the kinds of rhetorical and interpretive readings of this code a basic coding literacy would enable for digital rhetoricians. We conclude by offering resources for readers interested in growing these skills further.\n"
      ],
      "metadata": {
        "id": "uyK05M7MJ5-n"
      }
    },
    {
      "cell_type": "markdown",
      "source": [
        "## Part 3 Some Definitions/What do we talk about when we talk about code?\n",
        "\n",
        "### 3.1 Code and Coding\n",
        "\n",
        "In this part, we want to set out some definitions and practices to be clear about what we mean when we talk about “code.” The very first point we would like to make is that all computer code is a form of writing. At the very basic level, computer “code” many different technical languages that have been composed over the last 100-150 years to help human users interact with computers. As rhetoricians, this meaning of “code” is not the only one that we come across in our daily work. Many of us might be more familiar with a different kind of “coding” typically used in qualitative research. In such cases ‘code’ is the identification of, and subsequent execution of, specific content that falls into some kind of classification system or bucket-grouping that provides evidence of a certain kind of outcome. Users develop a ‘code book’ or shared vocabulary of activity to track across multiple sources. This kind of qualitative coding can be done manually, or might require software such as NVivo or Atlas.ti to perform qualitative content analysis or discourse analysis.\n",
        "\n",
        "We want to signpost this distinction at the very beginning to avoid confusion between computer coding and qualitative coding. Qualitative data coding is a major methodological intervention in the social sciences and humanistic disciplines. We do not wish to dismiss qualitative analysis - in fact, you can use computer programming languages to perform qualitative analysis. Both definitions of “code” can in fact invoke the use of software or computer programming languages that have certain capacities that provide engagement points between the computer and the user. However, when we discuss code in this piece, we want to be clear that we are using “code” as a shorthand for any text written in a computer programming language to directly “speak” or “converse” with your computer.\n",
        "\n",
        "### 3.2 Python\n",
        "\n",
        "Our language of choice is the programming language Python. We focus on Python because it opens many opportunities for you to continue to hone your skills as a quantitative and qualitative researcher. Among other things, Python is an open-source, well-maintained programming language with an emphasis on readability.  R, another common open-source programming language, has more of a focus on statistical computing and data visualization. Plenty of Python (and R) materials are already available as open educational resources, and working with computational code in research contributes to the larger open source movement. We like Python because it is lightweight and flexible, and it has the benefit of looking rather like English. This is a general plus for English-language readers and speakers - the code as written should not look intimidating or wildly foreign to us, even if it does not always follow the logic or structure of everyday English language. This is also a good moment to note that Python is not a natural (i.e. spoken) language, though it has its own internal logic and sets of rules in a way that make it like a spoken language. Additionally, since Python is also widely used by those working with data science and artificial intelligence, we hope that developing a working knowledge of it could also help digital rhetoricians engage more critically with the AI community, which has been marked as an important concern by many scholars of writing studies and rhetoric recently (Gallagher, 2023; Byrd, 2023).  \n",
        "\n",
        "We offer this web-text as a means to introduce the foundations of computer programming in Python that have been adapted for a writing studies audience. Some readers may recall the early days of the personal computer, such as MS-DOS, a predecessor to the modern Windows operating system. Working with Python or other coding languages is very similar to MS-DOS - there is an input screen, and each step to accomplish something must be provided by the user. While this may feel tedious, it also offers the user profound opportunity to be as exact as they want to be—not dissimilar to other forms of composition. Lindgren (2021), in fact, notes that several scholars position code as “the first form of writing that does what it says with great precision” (p. 117). Thus, we find that coding languages offer the ability to be more direct in manipulating data to do precisely what you want while also ensuring greater reproducibility by sharing the exact steps you took to conduct an analysis, including through computational  notebooks like this (more on computational notebooks in the next part) and code repositories such as GitHub. The ability to share, remix, and otherwise adapt extant code is one of the strongest benefits of working with code, along with the capacity for someone to follow along with the steps you took to conduct an analysis.\n",
        "\n",
        "In what follows, we begin by introducing readers to operating within what is called a “computational notebook,” which hosts and allows users to engage with code in an interactive way. We will offer an overview of how to interact with this notebook, including “running” (i.e. operationalizing) code and observing what it does. Once we establish how to use this resource, we will next introduce the main building blocks of reading Python code. In both instances, we are not seeking to provide a complete dictionary of all ways one may encounter Python, or to cover the large universe of what Python can do, but we do aim to situate our readers with some immediate sense of how to read or otherwise interpret some of the key pieces of Python’s symbols and syntax, which ultimately define different kinds of activities. Much like signposts in prose, these skills-building and vocabulary-building activities are designed to help the reader understand what will happen in the near future.\n"
      ],
      "metadata": {
        "id": "3H9pZq7VKaFU"
      }
    },
    {
      "cell_type": "markdown",
      "source": [
        "## Part 4 Basic Setup\n",
        "\n",
        "Previously, we have described our goals for this foundational web-text for working with Python code. We spent some time defining what we mean by “code,” “coding,” and “Python” and what our expectations for you, the reader, are. One of the more alien-seeming aspects of interacting with your computer with text in the 2020s is that we have lost a lot of engagement with the “under the hood” model of providing commands. Graphic user interfaces have made it more difficult to see, and subsequently interact with, a command line interface (the black screen that is familiar to coders but everyday users might have only encountered it when their Windows or Mac OS breaks down and need re-installing). For those of you who are used to hardware like a cell phone or a tablet, it can be more difficult to imagine that there is an underlying language to every action you take on your device. However, this is still a crucial piece of computational infrastructure. In this part, we will help you peek under the hood a little bit so let us begin!\n",
        "\n",
        "### 4.1 What is Google Collab?\n",
        "\n",
        "As noted in Part 1: Overview, this tutorial can be experienced in two forms. Version 1 is a static HTML webtext that can be accessed on the Kairos’ website. Version 2 is a computational notebook that uses a software called Google Collab and can be accessed by [clicking here](https://colab.research.google.com/github/mettalrose/kairos_intro_python_1/blob/main/computational_notebook.ipynb). If you are still on the webpage on the website of the journal Kairos, we recommend [clicking here](https://colab.research.google.com/github/mettalrose/kairos_intro_python_1/blob/main/computational_notebook.ipynb) to access Version 2.  \n",
        "\n",
        "What you see in this link to Version 2 is what is called a Google Colab computational notebook.  Think of it as a Google Docs for coding. In a computational notebook, you can write computer code and run it without going into a command line prompt on your own computer, which is where people usually write computer code. You can also invite other people to collaborate on your work with you. Importantly, any code you run here lives solely in your browser.\n",
        "\n",
        "### 4.2 Pausing and re-running Google Colab\n",
        "\n",
        "A common stumbling block for beginners working with computational code is the fear you will somehow “mess up” your computer; but don’t worry! Using a computational notebook removes the risk. Once you get comfortable working with coding languages, you may want to learn how to execute these on your own in your own command line prompt. For now though, let's use the Google Collab environment. We will walk you through each piece of running commands in what follows. Once you start running the computational notebook in this tutorial, it is possible that the tutorial might stop functioning if you step away from the computer and it is kept idle for a long time. If the tutorial stops functioning, all you have to do is refresh the page or reopen it. Also, please keep in mind that this notebook will not automatically save your progress. If you close the notebook in the middle of the tutorial, you will have to restart from the beginning. Alternatively, if you want to save your progress, you can save a version of this notebook in your Google Drive.\n",
        "\n",
        "### 4.3 What is a code cell in Google Collab and how to run it?\n",
        "\n",
        "Google Collab contains two types of cells: text cells and code cells. A text cell is like the one you are currently reading, where we can use HTML to write prose and format it. Text cells look and operate like any other text rendered on the web. A code cell, on the other hand, is what you can see below. This is a special space where you can write, edit, or run pre-written code. In a Google Collab notebook, code is primarily written in the programming language called \"Python\".\n",
        "\n",
        "When we say \"run\" code, we mean clicking on the ▶ (“play”) button that appears on the left of a code cell when you hover over it.\n",
        "\n",
        "Try to run the cell below that starts with the word \"print\" ! To do so, hover over the cell to the play button or the ▶ button that appears to the left of the cell and click it. (We will talk more about what the \"print\" command later in this web-text.)\n",
        "\n",
        "\n"
      ],
      "metadata": {
        "id": "rzD0LzRiKoXT"
      }
    },
    {
      "cell_type": "code",
      "source": [
        "print(\"Hi! Try to run me.\")\n"
      ],
      "metadata": {
        "id": "MkpxdgkoLVGW"
      },
      "execution_count": null,
      "outputs": []
    },
    {
      "cell_type": "markdown",
      "source": [
        "### 4.4 Accepting Warnings\n",
        "\n",
        "The first time you run this cell, you'll notice a warning appear right below the cell asking you to be cautious when running computational notebooks from the internet. That is an important caution that you should keep in mind when running notebooks whose authenticity and credibility you are unsure of. Since the current notebook has been peer reviewed, you can safely click on \"Run Anyway.\"\n",
        "\n",
        "### 4.5: Reading Results after Running Code\n",
        "If your code has run successfully, you should see a little green tick mark next to the code cell along with a time reference indicating how long it took to run that code and, finally, the results of what running that code did at the bottom of your code cell. You should see some kind of result below. Congratulations, you've just run your first-ever code cell! In this code, we have told the computer to “print” or show us as the output whatever sentence was written within the bracket. If your code worked properly, you should be seeing the sentence \"Hi! Try to print me\" below the code cell.\n",
        "\n",
        "Notice, that the input code cell, which was once represented as:\n",
        "\n",
        "[ ]:\n",
        "\n",
        "has now become:\n",
        "\n",
        "[1]:\n",
        "\n",
        "This means your code in that particular cell has run, and it was the first code cell that you ran (hence the 1). If you run the same block multiple times, you'll see that this number will keep on increasing.\n",
        "\n",
        "\n"
      ],
      "metadata": {
        "id": "XBA-9vvULikB"
      }
    }
  ]
}