{
  "nbformat": 4,
  "nbformat_minor": 0,
  "metadata": {
    "colab": {
      "provenance": [],
      "include_colab_link": true
    },
    "kernelspec": {
      "name": "python3",
      "display_name": "Python 3"
    },
    "language_info": {
      "name": "python"
    }
  },
  "cells": [
    {
      "cell_type": "markdown",
      "metadata": {
        "id": "view-in-github",
        "colab_type": "text"
      },
      "source": [
        "<a href=\"https://colab.research.google.com/github/mettalrose/kairos_intro_python_1/blob/main/computational_notebook.ipynb\" target=\"_parent\"><img src=\"https://colab.research.google.com/assets/colab-badge.svg\" alt=\"Open In Colab\"/></a>"
      ]
    },
    {
      "cell_type": "markdown",
      "source": [
        "# A Gentle DIY Introduction to Reading Python for Rhetoricians\n",
        "\n",
        "### — Anuj Gupta (University of South Florida)\n",
        "###— Heather Froehlich (University of Arizona)\n",
        "\n",
        "\n",
        "*Let's get started!*\n"
      ],
      "metadata": {
        "id": "SkP4RWONGn_A"
      }
    },
    {
      "cell_type": "markdown",
      "source": [
        "## **Abstract**\n",
        "\n",
        "This webtext is a pedagogical tool that supports students, teachers, and researchers in writing studies and allied fields who are interested in gaining a beginner-friendly introduction to the computer language Python. Specifically, this webtext consists of a computational notebook, which is a web interface that weaves together multiple modalities of HTML markup, written text, and coding snippets to provide an interactive experience with computer code. The written text in this interface helps users navigate, run, and edit the code snippets and engage with their outputs. By using this webtext, users will develop an ability to read basic code in Python—which is arguably one of the most widely used computer languages today and has played a major role in the development of practices like data science and artificial intelligence, which are rapidly impacting the field of digital rhetoric. Since computer code, especially that which is written in Python, plays a key infrastructural role that undergirds many forms of writing, rhetoric, and culture in our digitally mediated worlds, developing basic literacy in it can enable us to cultivate a critical awareness of our digital lives. You can use this tutorial independently or integrate it into a classroom setting.\n"
      ],
      "metadata": {
        "id": "Ix3xoGj1Gzoz"
      }
    },
    {
      "cell_type": "markdown",
      "source": [
        "## **Part 1: Overview**\n",
        "\n",
        "### Objectives\n",
        "\n",
        "1.   Experience how computer code in Python works at a micro-scale.\n",
        "2.   Develop a basic reading comprehension of computer code in Python\n",
        "3. Learn about free, open source resources through which you can continue learning Python for your work\n",
        "\n",
        "### Time Required\n",
        "~90 mins\n",
        "\n",
        "### Materials Needed\n",
        "\n",
        "1. A working internet connection: This tutorial relies on the internet, so please ensure that you have a decent internet connection.\n",
        "2. Web Browser: This tutorial works best with Google Chrome, Mozilla Firefox, and Microsoft Edge.\n",
        "3. Google Colab Notebook: Google Colab is a service that provides free access to \"computational notebooks,\" which are like a Google Docs environment for writing and running computer coding. Google Collab provides a user-friendly environment to practice coding. You won’t need to download anything. We will provide instructions on how to run Google Colab in your browser in Part 4: Basic Setup.\n",
        "\n",
        "### Prerequisite skills\n",
        "\n",
        "We have designed this tutorial assuming that our readers do not have any prior knowledge or experience working with any computer programming language, Python, or data at all. You will need a working understanding of English and curiosity about learning computer programming in Python to be able to use this tutorial.\n",
        "\n",
        "### How to engage with this tutorial\n",
        "\n",
        "There are two ways to access this tutorial.\n",
        "\n",
        "1. Version 1 is a static version displayed on the website of the journal Kairos’ website (*add link here after publishing)*. This version contains all the content of the tutorial but doesn’t have the functionality to run the actual code.\n",
        "2. Version 2 is a dynamic version that can be accessed on the website Google Colab ([click here](https://colab.research.google.com/github/mettalrose/kairos_intro_python_1/blob/main/computational_notebook.ipynb)\n",
        "). This version contains all the content of the tutorial and also allows you to run the computer code and see the outputs it generates. We will describe in more detail how to access Version 2 in Part 4: Basic Setup below.\n",
        "3. Each part of this tutorial is designed to build upon the knowledge and information provided from the previous part. While it's recommended to experience the parts in sequence, you are welcome to explore as you wish.\n"
      ],
      "metadata": {
        "id": "HCq1l9POHCiQ"
      }
    }
  ]
}